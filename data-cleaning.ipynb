{
 "cells": [
  {
   "cell_type": "markdown",
   "metadata": {},
   "source": [
    "***Imports***"
   ]
  },
  {
   "cell_type": "code",
   "execution_count": 1,
   "metadata": {},
   "outputs": [],
   "source": [
    "import pandas as pd"
   ]
  },
  {
   "cell_type": "markdown",
   "metadata": {},
   "source": [
    "***Loading Datasets***"
   ]
  },
  {
   "cell_type": "code",
   "execution_count": 2,
   "metadata": {},
   "outputs": [],
   "source": [
    "# Data for Content Filtering\n",
    "games_content = pd.read_csv('data/raw-data/content-filtering/games.csv')\n",
    "genres = pd.read_csv('data/raw-data/content-filtering/genres.csv')\n",
    "platforms = pd.read_csv('data/raw-data/content-filtering/platforms.csv')\n",
    "scores = pd.read_csv('data/raw-data/content-filtering/scores.csv')\n",
    "developers = pd.read_csv('data/raw-data/content-filtering/developers.csv')\n",
    "\n",
    "# Data for Collaborative Filtering\n",
    "games_collab = pd.read_csv('data/raw-data/collaborative-filtering/games.csv')\n",
    "recommendations = pd.read_csv('data/raw-data/collaborative-filtering/recommendations.csv')"
   ]
  },
  {
   "cell_type": "markdown",
   "metadata": {},
   "source": [
    "# **Cleaning Content Filtering Data**"
   ]
  }
 ],
 "metadata": {
  "kernelspec": {
   "display_name": "base",
   "language": "python",
   "name": "python3"
  },
  "language_info": {
   "codemirror_mode": {
    "name": "ipython",
    "version": 3
   },
   "file_extension": ".py",
   "mimetype": "text/x-python",
   "name": "python",
   "nbconvert_exporter": "python",
   "pygments_lexer": "ipython3",
   "version": "3.10.13"
  }
 },
 "nbformat": 4,
 "nbformat_minor": 2
}
