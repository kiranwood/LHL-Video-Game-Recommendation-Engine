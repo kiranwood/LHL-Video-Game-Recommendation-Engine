{
 "cells": [
  {
   "cell_type": "markdown",
   "metadata": {},
   "source": [
    "***Imports***"
   ]
  },
  {
   "cell_type": "code",
   "execution_count": 2,
   "metadata": {},
   "outputs": [],
   "source": [
    "import pandas as pd"
   ]
  },
  {
   "cell_type": "markdown",
   "metadata": {},
   "source": [
    "***Loading Datasets***"
   ]
  },
  {
   "cell_type": "code",
   "execution_count": 3,
   "metadata": {},
   "outputs": [],
   "source": [
    "# Data for Content Filtering\n",
    "games_content = pd.read_csv('../data/raw-data/content-filtering/games.csv')\n",
    "genres = pd.read_csv('../data/raw-data/content-filtering/genres.csv')\n",
    "platforms = pd.read_csv('../data/raw-data/content-filtering/platforms.csv')\n",
    "scores = pd.read_csv('../data/raw-data/content-filtering/scores.csv')\n",
    "developers = pd.read_csv('../data/raw-data/content-filtering/developers.csv')\n",
    "\n",
    "# Data for Collaborative Filtering\n",
    "games_collab = pd.read_csv('../data/raw-data/collaborative-filtering/steam-200k.csv',\n",
    "                            names=['userid', 'name', 'behavior', 'hours', '0']) # creating column names"
   ]
  },
  {
   "cell_type": "markdown",
   "metadata": {},
   "source": [
    "# **Cleaning Content Filtering Data**"
   ]
  },
  {
   "cell_type": "markdown",
   "metadata": {},
   "source": [
    "### **Cleaning Genres Dataset**"
   ]
  },
  {
   "cell_type": "markdown",
   "metadata": {},
   "source": [
    "***Combining Genres together into One Column***"
   ]
  },
  {
   "cell_type": "code",
   "execution_count": 4,
   "metadata": {},
   "outputs": [],
   "source": [
    "# list of game ids\n",
    "game_id = genres['id'].unique().tolist()\n",
    "new_genres = pd.DataFrame()\n",
    "\n",
    "# combining multiple genres into one column\n",
    "for id in game_id:\n",
    "    genre = genres.loc[genres['id'] == id, 'genre'].tolist()\n",
    "    new_genre = pd.DataFrame({'id' : id, 'genre' : [genre]})\n",
    "    new_genres = pd.concat([new_genres, new_genre], ignore_index=True)\n"
   ]
  },
  {
   "cell_type": "markdown",
   "metadata": {},
   "source": [
    "***Finished Clean Product***"
   ]
  },
  {
   "cell_type": "code",
   "execution_count": 5,
   "metadata": {},
   "outputs": [
    {
     "data": {
      "text/html": [
       "<div>\n",
       "<style scoped>\n",
       "    .dataframe tbody tr th:only-of-type {\n",
       "        vertical-align: middle;\n",
       "    }\n",
       "\n",
       "    .dataframe tbody tr th {\n",
       "        vertical-align: top;\n",
       "    }\n",
       "\n",
       "    .dataframe thead th {\n",
       "        text-align: right;\n",
       "    }\n",
       "</style>\n",
       "<table border=\"1\" class=\"dataframe\">\n",
       "  <thead>\n",
       "    <tr style=\"text-align: right;\">\n",
       "      <th></th>\n",
       "      <th>id</th>\n",
       "      <th>genre</th>\n",
       "    </tr>\n",
       "  </thead>\n",
       "  <tbody>\n",
       "    <tr>\n",
       "      <th>0</th>\n",
       "      <td>1000001</td>\n",
       "      <td>[Point-and-Click]</td>\n",
       "    </tr>\n",
       "    <tr>\n",
       "      <th>1</th>\n",
       "      <td>1000002</td>\n",
       "      <td>[Puzzle, Tactical]</td>\n",
       "    </tr>\n",
       "    <tr>\n",
       "      <th>2</th>\n",
       "      <td>1000003</td>\n",
       "      <td>[Pinball, Strategy]</td>\n",
       "    </tr>\n",
       "    <tr>\n",
       "      <th>3</th>\n",
       "      <td>1000004</td>\n",
       "      <td>[Card &amp; Board Game]</td>\n",
       "    </tr>\n",
       "    <tr>\n",
       "      <th>4</th>\n",
       "      <td>1000005</td>\n",
       "      <td>[Puzzle, Strategy]</td>\n",
       "    </tr>\n",
       "  </tbody>\n",
       "</table>\n",
       "</div>"
      ],
      "text/plain": [
       "        id                genre\n",
       "0  1000001    [Point-and-Click]\n",
       "1  1000002   [Puzzle, Tactical]\n",
       "2  1000003  [Pinball, Strategy]\n",
       "3  1000004  [Card & Board Game]\n",
       "4  1000005   [Puzzle, Strategy]"
      ]
     },
     "execution_count": 5,
     "metadata": {},
     "output_type": "execute_result"
    }
   ],
   "source": [
    "new_genres.head()"
   ]
  },
  {
   "cell_type": "markdown",
   "metadata": {},
   "source": [
    "### **Cleaning Platforms Dataset**"
   ]
  },
  {
   "cell_type": "markdown",
   "metadata": {},
   "source": [
    "***Removing Lesser Known Platforms***"
   ]
  },
  {
   "cell_type": "code",
   "execution_count": 6,
   "metadata": {},
   "outputs": [],
   "source": [
    "# creating list of platforms that have at least 10000 games\n",
    "relevant_platforms = platforms['platform'].value_counts()[platforms['platform'].value_counts() > 1000].index.tolist()\n",
    "\n",
    "# filtering only relevant platforms\n",
    "filtered_platforms = platforms[platforms['platform'].isin(relevant_platforms)]"
   ]
  },
  {
   "cell_type": "markdown",
   "metadata": {},
   "source": [
    "***Combining Platforms Together into One Column***"
   ]
  },
  {
   "cell_type": "code",
   "execution_count": 7,
   "metadata": {},
   "outputs": [],
   "source": [
    "# list of platform ids\n",
    "platform_id = filtered_platforms['id'].unique().tolist()\n",
    "new_platforms = pd.DataFrame()\n",
    "\n",
    "# combining multiple platforms into one column\n",
    "for id in platform_id:\n",
    "    platform = filtered_platforms.loc[filtered_platforms['id'] == id, 'platform'].tolist()\n",
    "    new_platform = pd.DataFrame({'id' : id, 'platform' : [platform]})\n",
    "    new_platforms = pd.concat([new_platforms, new_platform], ignore_index=True)"
   ]
  },
  {
   "cell_type": "markdown",
   "metadata": {},
   "source": [
    "***Removing Punctuation***"
   ]
  },
  {
   "cell_type": "code",
   "execution_count": 8,
   "metadata": {},
   "outputs": [],
   "source": [
    "def remove_punctuation(platforms): # Removes punctuation from text\n",
    "    for index in range(len(platforms)):\n",
    "        text = platforms[index].lower() # lowers all letters\n",
    "        alphabet = 'abcdefghijklmnopqrstuvwxyz '\n",
    "        text = \"\".join([char for char in text if char in alphabet])\n",
    "        platforms[index] = text\n",
    "    return platforms\n",
    "\n",
    "# applying function to data\n",
    "new_platforms['platform'] = new_platforms['platform'].apply(lambda x: remove_punctuation(x))"
   ]
  },
  {
   "cell_type": "markdown",
   "metadata": {},
   "source": [
    "***Final Cleaned Product***"
   ]
  },
  {
   "cell_type": "code",
   "execution_count": 9,
   "metadata": {},
   "outputs": [
    {
     "data": {
      "text/html": [
       "<div>\n",
       "<style scoped>\n",
       "    .dataframe tbody tr th:only-of-type {\n",
       "        vertical-align: middle;\n",
       "    }\n",
       "\n",
       "    .dataframe tbody tr th {\n",
       "        vertical-align: top;\n",
       "    }\n",
       "\n",
       "    .dataframe thead th {\n",
       "        text-align: right;\n",
       "    }\n",
       "</style>\n",
       "<table border=\"1\" class=\"dataframe\">\n",
       "  <thead>\n",
       "    <tr style=\"text-align: right;\">\n",
       "      <th></th>\n",
       "      <th>id</th>\n",
       "      <th>platform</th>\n",
       "    </tr>\n",
       "  </thead>\n",
       "  <tbody>\n",
       "    <tr>\n",
       "      <th>133569</th>\n",
       "      <td>1172414</td>\n",
       "      <td>[windows pc, playstation , xbox one, playstati...</td>\n",
       "    </tr>\n",
       "    <tr>\n",
       "      <th>133570</th>\n",
       "      <td>1172418</td>\n",
       "      <td>[windows pc]</td>\n",
       "    </tr>\n",
       "    <tr>\n",
       "      <th>133571</th>\n",
       "      <td>1172495</td>\n",
       "      <td>[windows pc]</td>\n",
       "    </tr>\n",
       "    <tr>\n",
       "      <th>133572</th>\n",
       "      <td>1172511</td>\n",
       "      <td>[windows pc]</td>\n",
       "    </tr>\n",
       "    <tr>\n",
       "      <th>133573</th>\n",
       "      <td>1172512</td>\n",
       "      <td>[android, ios]</td>\n",
       "    </tr>\n",
       "  </tbody>\n",
       "</table>\n",
       "</div>"
      ],
      "text/plain": [
       "             id                                           platform\n",
       "133569  1172414  [windows pc, playstation , xbox one, playstati...\n",
       "133570  1172418                                       [windows pc]\n",
       "133571  1172495                                       [windows pc]\n",
       "133572  1172511                                       [windows pc]\n",
       "133573  1172512                                     [android, ios]"
      ]
     },
     "execution_count": 9,
     "metadata": {},
     "output_type": "execute_result"
    }
   ],
   "source": [
    "new_platforms.tail()"
   ]
  },
  {
   "cell_type": "markdown",
   "metadata": {},
   "source": [
    "### **Cleaning Scores Dataset**"
   ]
  },
  {
   "cell_type": "markdown",
   "metadata": {},
   "source": [
    "***Combining the Score and Amount into a Mean***"
   ]
  },
  {
   "cell_type": "code",
   "execution_count": 10,
   "metadata": {},
   "outputs": [],
   "source": [
    "# creating list of scores\n",
    "score_id = scores['id'].unique().tolist()\n",
    "new_scores = pd.DataFrame()\n",
    "\n",
    "# creating the mean using score and amount\n",
    "for id in score_id:\n",
    "    score = scores[scores['id'] == id]['score'].tolist()\n",
    "    amount = scores[scores['id'] == id]['amount'].tolist()\n",
    "    addition = 0\n",
    "    for index in range(len(score)): # adds every single value together\n",
    "        add = score[index] * amount[index]\n",
    "        addition += add\n",
    "    amount_total = 0\n",
    "    for number in amount: # getting the total amount of reviews\n",
    "        amount_total += number\n",
    "    if amount_total > 0: # as long there are some sort of reviews\n",
    "        mean = addition / amount_total\n",
    "    else:\n",
    "        mean = 0\n",
    "    new_score = pd.DataFrame({'id' : id, 'score' : mean}, index=[0])\n",
    "    new_scores = pd.concat([new_score, new_scores], ignore_index=True)"
   ]
  },
  {
   "cell_type": "markdown",
   "metadata": {},
   "source": [
    "***Removing Scores that have a 0***"
   ]
  },
  {
   "cell_type": "code",
   "execution_count": 11,
   "metadata": {},
   "outputs": [],
   "source": [
    "new_scores = new_scores[new_scores['score'] > 0]"
   ]
  },
  {
   "cell_type": "markdown",
   "metadata": {},
   "source": [
    "***Final Cleaned Product***"
   ]
  },
  {
   "cell_type": "code",
   "execution_count": 12,
   "metadata": {},
   "outputs": [
    {
     "data": {
      "text/html": [
       "<div>\n",
       "<style scoped>\n",
       "    .dataframe tbody tr th:only-of-type {\n",
       "        vertical-align: middle;\n",
       "    }\n",
       "\n",
       "    .dataframe tbody tr th {\n",
       "        vertical-align: top;\n",
       "    }\n",
       "\n",
       "    .dataframe thead th {\n",
       "        text-align: right;\n",
       "    }\n",
       "</style>\n",
       "<table border=\"1\" class=\"dataframe\">\n",
       "  <thead>\n",
       "    <tr style=\"text-align: right;\">\n",
       "      <th></th>\n",
       "      <th>id</th>\n",
       "      <th>score</th>\n",
       "    </tr>\n",
       "  </thead>\n",
       "  <tbody>\n",
       "    <tr>\n",
       "      <th>0</th>\n",
       "      <td>1172512</td>\n",
       "      <td>3.50</td>\n",
       "    </tr>\n",
       "    <tr>\n",
       "      <th>7</th>\n",
       "      <td>1172505</td>\n",
       "      <td>2.50</td>\n",
       "    </tr>\n",
       "    <tr>\n",
       "      <th>16</th>\n",
       "      <td>1172496</td>\n",
       "      <td>2.00</td>\n",
       "    </tr>\n",
       "    <tr>\n",
       "      <th>18</th>\n",
       "      <td>1172494</td>\n",
       "      <td>3.50</td>\n",
       "    </tr>\n",
       "    <tr>\n",
       "      <th>20</th>\n",
       "      <td>1172492</td>\n",
       "      <td>3.25</td>\n",
       "    </tr>\n",
       "  </tbody>\n",
       "</table>\n",
       "</div>"
      ],
      "text/plain": [
       "         id  score\n",
       "0   1172512   3.50\n",
       "7   1172505   2.50\n",
       "16  1172496   2.00\n",
       "18  1172494   3.50\n",
       "20  1172492   3.25"
      ]
     },
     "execution_count": 12,
     "metadata": {},
     "output_type": "execute_result"
    }
   ],
   "source": [
    "new_scores.head()"
   ]
  },
  {
   "cell_type": "markdown",
   "metadata": {},
   "source": [
    "### **Cleaning Developers Dataset**"
   ]
  },
  {
   "cell_type": "markdown",
   "metadata": {},
   "source": [
    "***Removing Nulls***"
   ]
  },
  {
   "cell_type": "code",
   "execution_count": 13,
   "metadata": {},
   "outputs": [],
   "source": [
    "developers.dropna(inplace=True)"
   ]
  },
  {
   "cell_type": "markdown",
   "metadata": {},
   "source": [
    "***Combining Developers Together into one Column***"
   ]
  },
  {
   "cell_type": "code",
   "execution_count": 14,
   "metadata": {},
   "outputs": [],
   "source": [
    "# list of developers ids\n",
    "developer_id = developers['id'].unique().tolist()\n",
    "new_developers = pd.DataFrame()\n",
    "\n",
    "# combining multiple developers into one column\n",
    "for id in developer_id:\n",
    "    developer = developers.loc[developers['id'] == id, 'developer'].tolist()\n",
    "    new_developer = pd.DataFrame({'id' : id, 'developer' : [developer]})\n",
    "    new_developers = pd.concat([new_developers, new_developer], ignore_index=True)"
   ]
  },
  {
   "cell_type": "markdown",
   "metadata": {},
   "source": [
    "***Final Cleaned Product***"
   ]
  },
  {
   "cell_type": "code",
   "execution_count": 15,
   "metadata": {},
   "outputs": [
    {
     "data": {
      "text/html": [
       "<div>\n",
       "<style scoped>\n",
       "    .dataframe tbody tr th:only-of-type {\n",
       "        vertical-align: middle;\n",
       "    }\n",
       "\n",
       "    .dataframe tbody tr th {\n",
       "        vertical-align: top;\n",
       "    }\n",
       "\n",
       "    .dataframe thead th {\n",
       "        text-align: right;\n",
       "    }\n",
       "</style>\n",
       "<table border=\"1\" class=\"dataframe\">\n",
       "  <thead>\n",
       "    <tr style=\"text-align: right;\">\n",
       "      <th></th>\n",
       "      <th>id</th>\n",
       "      <th>developer</th>\n",
       "    </tr>\n",
       "  </thead>\n",
       "  <tbody>\n",
       "    <tr>\n",
       "      <th>0</th>\n",
       "      <td>1000002</td>\n",
       "      <td>[Josef Kates]</td>\n",
       "    </tr>\n",
       "    <tr>\n",
       "      <th>1</th>\n",
       "      <td>1000004</td>\n",
       "      <td>[Christopher Strachey]</td>\n",
       "    </tr>\n",
       "    <tr>\n",
       "      <th>2</th>\n",
       "      <td>1000005</td>\n",
       "      <td>[Alexander Shafto \"Sandy\" Douglas, University ...</td>\n",
       "    </tr>\n",
       "    <tr>\n",
       "      <th>3</th>\n",
       "      <td>1000007</td>\n",
       "      <td>[William Higinbotham]</td>\n",
       "    </tr>\n",
       "    <tr>\n",
       "      <th>4</th>\n",
       "      <td>1000009</td>\n",
       "      <td>[Steve Russel, Computer Recreations, Inc.]</td>\n",
       "    </tr>\n",
       "  </tbody>\n",
       "</table>\n",
       "</div>"
      ],
      "text/plain": [
       "        id                                          developer\n",
       "0  1000002                                      [Josef Kates]\n",
       "1  1000004                             [Christopher Strachey]\n",
       "2  1000005  [Alexander Shafto \"Sandy\" Douglas, University ...\n",
       "3  1000007                              [William Higinbotham]\n",
       "4  1000009         [Steve Russel, Computer Recreations, Inc.]"
      ]
     },
     "execution_count": 15,
     "metadata": {},
     "output_type": "execute_result"
    }
   ],
   "source": [
    "new_developers.head()"
   ]
  },
  {
   "cell_type": "markdown",
   "metadata": {},
   "source": [
    "### **Joining All Datasets**"
   ]
  },
  {
   "cell_type": "code",
   "execution_count": 16,
   "metadata": {},
   "outputs": [],
   "source": [
    "games_content = pd.merge(games_content, new_genres, on='id', how='left')\n",
    "games_content = pd.merge(games_content, new_platforms, on='id', how='left')\n",
    "games_content = pd.merge(games_content, new_scores, on='id', how='left')\n",
    "games_content = pd.merge(games_content, new_developers, on='id', how='left')"
   ]
  },
  {
   "cell_type": "code",
   "execution_count": 17,
   "metadata": {},
   "outputs": [
    {
     "data": {
      "text/html": [
       "<div>\n",
       "<style scoped>\n",
       "    .dataframe tbody tr th:only-of-type {\n",
       "        vertical-align: middle;\n",
       "    }\n",
       "\n",
       "    .dataframe tbody tr th {\n",
       "        vertical-align: top;\n",
       "    }\n",
       "\n",
       "    .dataframe thead th {\n",
       "        text-align: right;\n",
       "    }\n",
       "</style>\n",
       "<table border=\"1\" class=\"dataframe\">\n",
       "  <thead>\n",
       "    <tr style=\"text-align: right;\">\n",
       "      <th></th>\n",
       "      <th>id</th>\n",
       "      <th>name</th>\n",
       "      <th>date</th>\n",
       "      <th>rating</th>\n",
       "      <th>reviews</th>\n",
       "      <th>plays</th>\n",
       "      <th>playing</th>\n",
       "      <th>backlogs</th>\n",
       "      <th>wishlists</th>\n",
       "      <th>description</th>\n",
       "      <th>genre</th>\n",
       "      <th>platform</th>\n",
       "      <th>score</th>\n",
       "      <th>developer</th>\n",
       "    </tr>\n",
       "  </thead>\n",
       "  <tbody>\n",
       "    <tr>\n",
       "      <th>0</th>\n",
       "      <td>1000001</td>\n",
       "      <td>Cathode Ray Tube Amusement Device</td>\n",
       "      <td>1947-12-31</td>\n",
       "      <td>3.5</td>\n",
       "      <td>65.0</td>\n",
       "      <td>117.0</td>\n",
       "      <td>1.0</td>\n",
       "      <td>28.0</td>\n",
       "      <td>56.0</td>\n",
       "      <td>The cathode ray tube amusement device is the e...</td>\n",
       "      <td>[Point-and-Click]</td>\n",
       "      <td>NaN</td>\n",
       "      <td>3.529070</td>\n",
       "      <td>NaN</td>\n",
       "    </tr>\n",
       "    <tr>\n",
       "      <th>1</th>\n",
       "      <td>1000002</td>\n",
       "      <td>Bertie the Brain</td>\n",
       "      <td>1950-08-25</td>\n",
       "      <td>2.5</td>\n",
       "      <td>11.0</td>\n",
       "      <td>24.0</td>\n",
       "      <td>0.0</td>\n",
       "      <td>6.0</td>\n",
       "      <td>12.0</td>\n",
       "      <td>Currently considered the first videogame in hi...</td>\n",
       "      <td>[Puzzle, Tactical]</td>\n",
       "      <td>[arcade]</td>\n",
       "      <td>2.535714</td>\n",
       "      <td>[Josef Kates]</td>\n",
       "    </tr>\n",
       "    <tr>\n",
       "      <th>2</th>\n",
       "      <td>1000003</td>\n",
       "      <td>Nim</td>\n",
       "      <td>1951-12-31</td>\n",
       "      <td>1.8</td>\n",
       "      <td>2.0</td>\n",
       "      <td>11.0</td>\n",
       "      <td>0.0</td>\n",
       "      <td>2.0</td>\n",
       "      <td>6.0</td>\n",
       "      <td>The Nimrod was a special purpose computer that...</td>\n",
       "      <td>[Pinball, Strategy]</td>\n",
       "      <td>NaN</td>\n",
       "      <td>1.750000</td>\n",
       "      <td>NaN</td>\n",
       "    </tr>\n",
       "    <tr>\n",
       "      <th>3</th>\n",
       "      <td>1000004</td>\n",
       "      <td>Draughts</td>\n",
       "      <td>1952-08-31</td>\n",
       "      <td>2.4</td>\n",
       "      <td>3.0</td>\n",
       "      <td>17.0</td>\n",
       "      <td>0.0</td>\n",
       "      <td>3.0</td>\n",
       "      <td>7.0</td>\n",
       "      <td>A game of draughts (a.k.a. checkers) written f...</td>\n",
       "      <td>[Card &amp; Board Game]</td>\n",
       "      <td>NaN</td>\n",
       "      <td>2.388889</td>\n",
       "      <td>[Christopher Strachey]</td>\n",
       "    </tr>\n",
       "    <tr>\n",
       "      <th>4</th>\n",
       "      <td>1000005</td>\n",
       "      <td>OXO</td>\n",
       "      <td>1952-12-31</td>\n",
       "      <td>3.1</td>\n",
       "      <td>14.0</td>\n",
       "      <td>52.0</td>\n",
       "      <td>1.0</td>\n",
       "      <td>12.0</td>\n",
       "      <td>13.0</td>\n",
       "      <td>OXO was a computer game developed by Alexander...</td>\n",
       "      <td>[Puzzle, Strategy]</td>\n",
       "      <td>[windows pc]</td>\n",
       "      <td>3.066667</td>\n",
       "      <td>[Alexander Shafto \"Sandy\" Douglas, University ...</td>\n",
       "    </tr>\n",
       "  </tbody>\n",
       "</table>\n",
       "</div>"
      ],
      "text/plain": [
       "        id                               name        date  rating  reviews  \\\n",
       "0  1000001  Cathode Ray Tube Amusement Device  1947-12-31     3.5     65.0   \n",
       "1  1000002                   Bertie the Brain  1950-08-25     2.5     11.0   \n",
       "2  1000003                                Nim  1951-12-31     1.8      2.0   \n",
       "3  1000004                           Draughts  1952-08-31     2.4      3.0   \n",
       "4  1000005                                OXO  1952-12-31     3.1     14.0   \n",
       "\n",
       "   plays  playing  backlogs  wishlists  \\\n",
       "0  117.0      1.0      28.0       56.0   \n",
       "1   24.0      0.0       6.0       12.0   \n",
       "2   11.0      0.0       2.0        6.0   \n",
       "3   17.0      0.0       3.0        7.0   \n",
       "4   52.0      1.0      12.0       13.0   \n",
       "\n",
       "                                         description                genre  \\\n",
       "0  The cathode ray tube amusement device is the e...    [Point-and-Click]   \n",
       "1  Currently considered the first videogame in hi...   [Puzzle, Tactical]   \n",
       "2  The Nimrod was a special purpose computer that...  [Pinball, Strategy]   \n",
       "3  A game of draughts (a.k.a. checkers) written f...  [Card & Board Game]   \n",
       "4  OXO was a computer game developed by Alexander...   [Puzzle, Strategy]   \n",
       "\n",
       "       platform     score                                          developer  \n",
       "0           NaN  3.529070                                                NaN  \n",
       "1      [arcade]  2.535714                                      [Josef Kates]  \n",
       "2           NaN  1.750000                                                NaN  \n",
       "3           NaN  2.388889                             [Christopher Strachey]  \n",
       "4  [windows pc]  3.066667  [Alexander Shafto \"Sandy\" Douglas, University ...  "
      ]
     },
     "execution_count": 17,
     "metadata": {},
     "output_type": "execute_result"
    }
   ],
   "source": [
    "games_content.head()"
   ]
  },
  {
   "cell_type": "markdown",
   "metadata": {},
   "source": [
    "### **Cleaning Games Dataset**"
   ]
  },
  {
   "cell_type": "markdown",
   "metadata": {},
   "source": [
    "***Filtering only relevant columns***"
   ]
  },
  {
   "cell_type": "code",
   "execution_count": 18,
   "metadata": {},
   "outputs": [],
   "source": [
    "relevant_columns = ['id', 'name', 'date', 'plays', 'description', 'genre', 'platform',\n",
    "                    'score', 'developer']\n",
    "\n",
    "games_content = games_content[relevant_columns]"
   ]
  },
  {
   "cell_type": "markdown",
   "metadata": {},
   "source": [
    "***Removing Games with any Nulls***"
   ]
  },
  {
   "cell_type": "code",
   "execution_count": 19,
   "metadata": {},
   "outputs": [],
   "source": [
    "games_content = games_content.dropna()"
   ]
  },
  {
   "cell_type": "markdown",
   "metadata": {},
   "source": [
    "***Cleaning Date to only Year***"
   ]
  },
  {
   "cell_type": "code",
   "execution_count": 20,
   "metadata": {},
   "outputs": [],
   "source": [
    "def change_date(date):\n",
    "    return int(date[:4])\n",
    "\n",
    "games_content['date'] = games_content['date'].apply(change_date)"
   ]
  },
  {
   "cell_type": "markdown",
   "metadata": {},
   "source": [
    "***Only Using Games that have more than 100 players***"
   ]
  },
  {
   "cell_type": "code",
   "execution_count": 21,
   "metadata": {},
   "outputs": [],
   "source": [
    "games_content = games_content[games_content['plays'] > 100]"
   ]
  },
  {
   "cell_type": "markdown",
   "metadata": {},
   "source": [
    "***Removing Punctuation in name***"
   ]
  },
  {
   "cell_type": "code",
   "execution_count": 22,
   "metadata": {},
   "outputs": [],
   "source": [
    "def remove_punctuation(text): # Removes punctuation from text\n",
    "    text = text.lower()\n",
    "    alphabet = 'abcdefghijklmnopqrstuvwxyz 1234567890'\n",
    "    text = \"\".join([char for char in text if char in alphabet])\n",
    "    return text\n",
    "\n",
    "# applying function to data\n",
    "games_content['name'] = games_content['name'].apply(lambda x: remove_punctuation(x))"
   ]
  },
  {
   "cell_type": "markdown",
   "metadata": {},
   "source": [
    "***Removing Duplicate Games***"
   ]
  },
  {
   "cell_type": "code",
   "execution_count": 23,
   "metadata": {},
   "outputs": [],
   "source": [
    "games_content = games_content.drop_duplicates(subset='name')"
   ]
  },
  {
   "cell_type": "markdown",
   "metadata": {},
   "source": [
    "### **Final Games Content Dataset**"
   ]
  },
  {
   "cell_type": "code",
   "execution_count": 24,
   "metadata": {},
   "outputs": [
    {
     "data": {
      "text/html": [
       "<div>\n",
       "<style scoped>\n",
       "    .dataframe tbody tr th:only-of-type {\n",
       "        vertical-align: middle;\n",
       "    }\n",
       "\n",
       "    .dataframe tbody tr th {\n",
       "        vertical-align: top;\n",
       "    }\n",
       "\n",
       "    .dataframe thead th {\n",
       "        text-align: right;\n",
       "    }\n",
       "</style>\n",
       "<table border=\"1\" class=\"dataframe\">\n",
       "  <thead>\n",
       "    <tr style=\"text-align: right;\">\n",
       "      <th></th>\n",
       "      <th>id</th>\n",
       "      <th>name</th>\n",
       "      <th>date</th>\n",
       "      <th>plays</th>\n",
       "      <th>description</th>\n",
       "      <th>genre</th>\n",
       "      <th>platform</th>\n",
       "      <th>score</th>\n",
       "      <th>developer</th>\n",
       "    </tr>\n",
       "  </thead>\n",
       "  <tbody>\n",
       "    <tr>\n",
       "      <th>41</th>\n",
       "      <td>1000042</td>\n",
       "      <td>pong</td>\n",
       "      <td>1972</td>\n",
       "      <td>4053.0</td>\n",
       "      <td>Pong is a tennis game with simple two-dimensio...</td>\n",
       "      <td>[Arcade, Simulator, Sport]</td>\n",
       "      <td>[arcade]</td>\n",
       "      <td>2.985992</td>\n",
       "      <td>[Fairchild Semiconductor, Atari, Inc.]</td>\n",
       "    </tr>\n",
       "    <tr>\n",
       "      <th>149</th>\n",
       "      <td>1000150</td>\n",
       "      <td>breakout</td>\n",
       "      <td>1976</td>\n",
       "      <td>558.0</td>\n",
       "      <td>The objective of the game is to destroy a mult...</td>\n",
       "      <td>[Arcade]</td>\n",
       "      <td>[arcade]</td>\n",
       "      <td>3.053628</td>\n",
       "      <td>[Namco, Atari]</td>\n",
       "    </tr>\n",
       "    <tr>\n",
       "      <th>201</th>\n",
       "      <td>1000202</td>\n",
       "      <td>zork</td>\n",
       "      <td>1977</td>\n",
       "      <td>281.0</td>\n",
       "      <td>Zork is one of the earliest interactive fictio...</td>\n",
       "      <td>[Adventure]</td>\n",
       "      <td>[mac, atari stste, amiga, pc dos, commodore c,...</td>\n",
       "      <td>3.164062</td>\n",
       "      <td>[Commodore Electronics Ltd., Infocom]</td>\n",
       "    </tr>\n",
       "    <tr>\n",
       "      <th>232</th>\n",
       "      <td>1000233</td>\n",
       "      <td>airsea battle</td>\n",
       "      <td>1977</td>\n",
       "      <td>123.0</td>\n",
       "      <td>There are six basic types of game available in...</td>\n",
       "      <td>[Shooter]</td>\n",
       "      <td>[windows pc]</td>\n",
       "      <td>2.300000</td>\n",
       "      <td>[Atari, Inc., Atari]</td>\n",
       "    </tr>\n",
       "    <tr>\n",
       "      <th>299</th>\n",
       "      <td>1000300</td>\n",
       "      <td>space invaders</td>\n",
       "      <td>1978</td>\n",
       "      <td>2811.0</td>\n",
       "      <td>Space Invaders is an arcade video game develop...</td>\n",
       "      <td>[Arcade, Shooter]</td>\n",
       "      <td>[ios, arcade]</td>\n",
       "      <td>3.104677</td>\n",
       "      <td>[Sharp, Taito Corporation]</td>\n",
       "    </tr>\n",
       "  </tbody>\n",
       "</table>\n",
       "</div>"
      ],
      "text/plain": [
       "          id            name  date   plays  \\\n",
       "41   1000042            pong  1972  4053.0   \n",
       "149  1000150        breakout  1976   558.0   \n",
       "201  1000202            zork  1977   281.0   \n",
       "232  1000233   airsea battle  1977   123.0   \n",
       "299  1000300  space invaders  1978  2811.0   \n",
       "\n",
       "                                           description  \\\n",
       "41   Pong is a tennis game with simple two-dimensio...   \n",
       "149  The objective of the game is to destroy a mult...   \n",
       "201  Zork is one of the earliest interactive fictio...   \n",
       "232  There are six basic types of game available in...   \n",
       "299  Space Invaders is an arcade video game develop...   \n",
       "\n",
       "                          genre  \\\n",
       "41   [Arcade, Simulator, Sport]   \n",
       "149                    [Arcade]   \n",
       "201                 [Adventure]   \n",
       "232                   [Shooter]   \n",
       "299           [Arcade, Shooter]   \n",
       "\n",
       "                                              platform     score  \\\n",
       "41                                            [arcade]  2.985992   \n",
       "149                                           [arcade]  3.053628   \n",
       "201  [mac, atari stste, amiga, pc dos, commodore c,...  3.164062   \n",
       "232                                       [windows pc]  2.300000   \n",
       "299                                      [ios, arcade]  3.104677   \n",
       "\n",
       "                                  developer  \n",
       "41   [Fairchild Semiconductor, Atari, Inc.]  \n",
       "149                          [Namco, Atari]  \n",
       "201   [Commodore Electronics Ltd., Infocom]  \n",
       "232                    [Atari, Inc., Atari]  \n",
       "299              [Sharp, Taito Corporation]  "
      ]
     },
     "execution_count": 24,
     "metadata": {},
     "output_type": "execute_result"
    }
   ],
   "source": [
    "games_content.head()"
   ]
  },
  {
   "cell_type": "code",
   "execution_count": 25,
   "metadata": {},
   "outputs": [
    {
     "data": {
      "text/plain": [
       "(10429, 9)"
      ]
     },
     "execution_count": 25,
     "metadata": {},
     "output_type": "execute_result"
    }
   ],
   "source": [
    "games_content.shape"
   ]
  },
  {
   "cell_type": "markdown",
   "metadata": {},
   "source": [
    "**Insights:** This is the final cleaned content data. The description column will be later cleaned later for specific NLP tasks. In the end we are left with `10429` games."
   ]
  },
  {
   "cell_type": "markdown",
   "metadata": {},
   "source": [
    "***Saving Dataset***"
   ]
  },
  {
   "cell_type": "code",
   "execution_count": 26,
   "metadata": {},
   "outputs": [],
   "source": [
    "games_content.to_csv('../data/cleaned-data/games_content.csv')"
   ]
  },
  {
   "cell_type": "markdown",
   "metadata": {},
   "source": [
    "# **Cleaning Collaborative Filtering Data**"
   ]
  },
  {
   "cell_type": "markdown",
   "metadata": {},
   "source": [
    "***Filtering Whether a User has either Played or Purchased***"
   ]
  },
  {
   "cell_type": "code",
   "execution_count": 74,
   "metadata": {},
   "outputs": [],
   "source": [
    "# get ids for users \n",
    "games_id = games_collab['userid'].unique().tolist()\n",
    "new_games_collab = pd.DataFrame()\n",
    "\n",
    "\n",
    "for id in games_id:\n",
    "    games_list = games_collab[games_collab['userid'] == id]['name'].unique().tolist()\n",
    "    for game in games_list:\n",
    "        # getting behaviours for the user's game\n",
    "        behaviors = games_collab[(games_collab['userid'] == id) & (games_collab['name'] == game)]['behavior'].tolist()\n",
    "        if 'play' in behaviors: # if played before apply play\n",
    "            user_game = pd.DataFrame({'userid' : id, 'name' : game, 'behavior' : 'play'}, index=[0])\n",
    "        else: # else just purchased\n",
    "            user_game = pd.DataFrame({'userid' : id, 'name' : game, 'behavior' : 'purchase'}, index=[0])\n",
    "        new_games_collab = pd.concat([new_games_collab, user_game], ignore_index=True)\n",
    "    "
   ]
  },
  {
   "cell_type": "markdown",
   "metadata": {},
   "source": [
    "***Filtering Users on how many games they've played***"
   ]
  },
  {
   "cell_type": "code",
   "execution_count": 81,
   "metadata": {},
   "outputs": [],
   "source": [
    "# filters users if they have purchased/played at least 2 games\n",
    "users = new_games_collab['userid'].value_counts()[new_games_collab['userid'].value_counts() > 1].index.tolist()\n",
    "\n",
    "new_games_collab = new_games_collab[new_games_collab['userid'].isin(users)]"
   ]
  },
  {
   "cell_type": "markdown",
   "metadata": {},
   "source": [
    "***Removing Punctuation***"
   ]
  },
  {
   "cell_type": "code",
   "execution_count": 82,
   "metadata": {},
   "outputs": [
    {
     "name": "stderr",
     "output_type": "stream",
     "text": [
      "/var/folders/m2/l617y1qd3w54klyxl13frw5h0000gn/T/ipykernel_12121/3352423872.py:8: SettingWithCopyWarning: \n",
      "A value is trying to be set on a copy of a slice from a DataFrame.\n",
      "Try using .loc[row_indexer,col_indexer] = value instead\n",
      "\n",
      "See the caveats in the documentation: https://pandas.pydata.org/pandas-docs/stable/user_guide/indexing.html#returning-a-view-versus-a-copy\n",
      "  new_games_collab['name'] = new_games_collab['name'].apply(lambda x: remove_punctuation(x))\n"
     ]
    }
   ],
   "source": [
    "def remove_punctuation(text): # Removes punctuation from text\n",
    "    text = text.lower()\n",
    "    alphabet = 'abcdefghijklmnopqrstuvwxyz 1234567890'\n",
    "    text = \"\".join([char for char in text if char in alphabet])\n",
    "    return text\n",
    "\n",
    "# applying function to data\n",
    "new_games_collab['name'] = new_games_collab['name'].apply(lambda x: remove_punctuation(x))"
   ]
  },
  {
   "cell_type": "markdown",
   "metadata": {},
   "source": [
    "### **Final Games Collaborative Dataset**"
   ]
  },
  {
   "cell_type": "code",
   "execution_count": 83,
   "metadata": {},
   "outputs": [
    {
     "data": {
      "text/html": [
       "<div>\n",
       "<style scoped>\n",
       "    .dataframe tbody tr th:only-of-type {\n",
       "        vertical-align: middle;\n",
       "    }\n",
       "\n",
       "    .dataframe tbody tr th {\n",
       "        vertical-align: top;\n",
       "    }\n",
       "\n",
       "    .dataframe thead th {\n",
       "        text-align: right;\n",
       "    }\n",
       "</style>\n",
       "<table border=\"1\" class=\"dataframe\">\n",
       "  <thead>\n",
       "    <tr style=\"text-align: right;\">\n",
       "      <th></th>\n",
       "      <th>userid</th>\n",
       "      <th>name</th>\n",
       "      <th>behavior</th>\n",
       "    </tr>\n",
       "  </thead>\n",
       "  <tbody>\n",
       "    <tr>\n",
       "      <th>0</th>\n",
       "      <td>151603712</td>\n",
       "      <td>the elder scrolls v skyrim</td>\n",
       "      <td>play</td>\n",
       "    </tr>\n",
       "    <tr>\n",
       "      <th>1</th>\n",
       "      <td>151603712</td>\n",
       "      <td>fallout 4</td>\n",
       "      <td>play</td>\n",
       "    </tr>\n",
       "    <tr>\n",
       "      <th>2</th>\n",
       "      <td>151603712</td>\n",
       "      <td>spore</td>\n",
       "      <td>play</td>\n",
       "    </tr>\n",
       "    <tr>\n",
       "      <th>3</th>\n",
       "      <td>151603712</td>\n",
       "      <td>fallout new vegas</td>\n",
       "      <td>play</td>\n",
       "    </tr>\n",
       "    <tr>\n",
       "      <th>4</th>\n",
       "      <td>151603712</td>\n",
       "      <td>left 4 dead 2</td>\n",
       "      <td>play</td>\n",
       "    </tr>\n",
       "  </tbody>\n",
       "</table>\n",
       "</div>"
      ],
      "text/plain": [
       "      userid                        name behavior\n",
       "0  151603712  the elder scrolls v skyrim     play\n",
       "1  151603712                   fallout 4     play\n",
       "2  151603712                       spore     play\n",
       "3  151603712           fallout new vegas     play\n",
       "4  151603712               left 4 dead 2     play"
      ]
     },
     "execution_count": 83,
     "metadata": {},
     "output_type": "execute_result"
    }
   ],
   "source": [
    "new_games_collab.head()"
   ]
  },
  {
   "cell_type": "code",
   "execution_count": 85,
   "metadata": {},
   "outputs": [
    {
     "data": {
      "text/plain": [
       "(123104, 3)"
      ]
     },
     "execution_count": 85,
     "metadata": {},
     "output_type": "execute_result"
    }
   ],
   "source": [
    "new_games_collab.shape"
   ]
  },
  {
   "cell_type": "code",
   "execution_count": 88,
   "metadata": {},
   "outputs": [
    {
     "data": {
      "text/plain": [
       "6693"
      ]
     },
     "execution_count": 88,
     "metadata": {},
     "output_type": "execute_result"
    }
   ],
   "source": [
    "len(new_games_collab['userid'].unique())"
   ]
  },
  {
   "cell_type": "markdown",
   "metadata": {},
   "source": [
    "**Insights:** In the final dataset we have **123104** games that players have either played or purchased. With **6693** different users who have played/purchased at least 2 games."
   ]
  },
  {
   "cell_type": "markdown",
   "metadata": {},
   "source": [
    "***Saving Dataset***"
   ]
  },
  {
   "cell_type": "code",
   "execution_count": 89,
   "metadata": {},
   "outputs": [],
   "source": [
    "new_games_collab.to_csv('../data/cleaned-data/games_collab.csv')"
   ]
  }
 ],
 "metadata": {
  "kernelspec": {
   "display_name": "base",
   "language": "python",
   "name": "python3"
  },
  "language_info": {
   "codemirror_mode": {
    "name": "ipython",
    "version": 3
   },
   "file_extension": ".py",
   "mimetype": "text/x-python",
   "name": "python",
   "nbconvert_exporter": "python",
   "pygments_lexer": "ipython3",
   "version": "3.10.13"
  }
 },
 "nbformat": 4,
 "nbformat_minor": 2
}
